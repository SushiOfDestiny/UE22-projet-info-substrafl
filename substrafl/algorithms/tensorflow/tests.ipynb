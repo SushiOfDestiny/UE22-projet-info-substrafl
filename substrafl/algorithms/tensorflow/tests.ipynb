{
 "cells": [
  {
   "attachments": {},
   "cell_type": "markdown",
   "metadata": {},
   "source": [
    "# Tests of algorithms.tensorflow.weight_manager.py"
   ]
  },
  {
   "cell_type": "code",
   "execution_count": 1,
   "metadata": {},
   "outputs": [],
   "source": [
    "from typing import List\n",
    "import tensorflow as tf\n",
    "import numpy as np\n",
    "from tensorflow.keras import datasets, layers, models\n",
    "\n",
    "import weight_manager"
   ]
  },
  {
   "cell_type": "code",
   "execution_count": 2,
   "metadata": {},
   "outputs": [],
   "source": [
    "# simple model creation\n",
    "\n",
    "model = tf.keras.Sequential()\n",
    "model.add(layers.Dense(units=10, input_shape=(1,)))\n",
    "model.add(layers.Dense(units=10))\n",
    "# model.add(layers.Conv2D(32, (3, 3), activation='relu', input_shape=(32,32,3)))\n",
    "# model.add(layers.MaxPooling2D((2, 2)))\n",
    "# model.add(layers.Conv2D(64, (3, 3), activation='relu'))\n",
    "# model.add(layers.MaxPooling2D((2, 2)))\n",
    "# model.add(layers.Conv2D(64, (3, 3), activation='relu'))\n"
   ]
  },
  {
   "cell_type": "code",
   "execution_count": 5,
   "metadata": {},
   "outputs": [
    {
     "name": "stdout",
     "output_type": "stream",
     "text": [
      "Model: \"sequential\"\n",
      "_________________________________________________________________\n",
      " Layer (type)                Output Shape              Param #   \n",
      "=================================================================\n",
      " dense (Dense)               (None, 10)                20        \n",
      "                                                                 \n",
      " dense_1 (Dense)             (None, 10)                110       \n",
      "                                                                 \n",
      "=================================================================\n",
      "Total params: 130\n",
      "Trainable params: 130\n",
      "Non-trainable params: 0\n",
      "_________________________________________________________________\n"
     ]
    }
   ],
   "source": [
    "model.summary()"
   ]
  },
  {
   "attachments": {},
   "cell_type": "markdown",
   "metadata": {},
   "source": [
    "## Analysis of model.weights"
   ]
  },
  {
   "cell_type": "code",
   "execution_count": 28,
   "metadata": {},
   "outputs": [
    {
     "data": {
      "text/plain": [
       "[<tf.Variable 'dense/kernel:0' shape=(1, 10) dtype=float32, numpy=\n",
       " array([[ 0.6097705 ,  0.97421175,  0.76544136,  0.04212335, -0.11383426,\n",
       "          0.93249696,  0.98096126,  1.185389  ,  0.7979639 ,  0.6755691 ]],\n",
       "       dtype=float32)>,\n",
       " <tf.Variable 'dense/bias:0' shape=(10,) dtype=float32, numpy=array([0.5, 0.5, 0.5, 0.5, 0.5, 0.5, 0.5, 0.5, 0.5, 0.5], dtype=float32)>,\n",
       " <tf.Variable 'dense_1/kernel:0' shape=(10, 10) dtype=float32, numpy=\n",
       " array([[ 0.17526767,  0.99429166,  0.45228302, -0.0279308 ,  0.5181041 ,\n",
       "          0.02135977,  0.3771191 ,  0.29630885,  0.4934162 ,  0.05509907],\n",
       "        [ 0.36632243,  0.87222916,  0.7056887 ,  0.4357409 ,  0.74763453,\n",
       "          1.0191514 ,  0.2789482 ,  0.77191526,  1.0342777 ,  0.14600462],\n",
       "        [ 0.94309413,  0.8797434 ,  0.5216277 ,  0.76034737,  0.08473635,\n",
       "          0.698376  ,  0.0564428 ,  0.5298964 ,  0.3333498 ,  0.8105746 ],\n",
       "        [ 0.07442456,  0.753538  ,  0.92369866,  0.35825253,  0.77232677,\n",
       "          0.79700994,  0.8349419 ,  0.59037083,  0.23896381,  0.45977104],\n",
       "        [ 0.7300523 ,  0.30390942, -0.03815848,  0.2896058 ,  0.15957317,\n",
       "          0.5542566 ,  1.0390393 ,  0.54946804,  0.03139761,  0.00572535],\n",
       "        [ 0.9338428 ,  0.84295434,  0.00722763,  0.7105817 , -0.00842118,\n",
       "          0.59326047,  0.7309132 ,  0.08686692,  0.6305486 ,  1.030484  ],\n",
       "        [ 0.61665374,  0.9064329 ,  0.11620581,  0.90924215,  0.3466603 ,\n",
       "          0.5950368 ,  0.94874007,  0.3672048 ,  0.10387379,  0.30515143],\n",
       "        [ 1.0046158 ,  0.52874684,  0.2762466 ,  0.49584657,  0.9459806 ,\n",
       "          0.70467484,  0.06110936,  0.13968435,  0.33777642,  0.53293556],\n",
       "        [ 0.9431683 ,  0.47662187,  0.23259833,  0.35117078,  0.5382237 ,\n",
       "          0.1824736 ,  0.4504522 ,  0.6058228 ,  0.8635104 ,  0.08975589],\n",
       "        [ 0.37685975,  0.39722353,  0.04019529,  0.0684225 ,  0.54395866,\n",
       "          0.8556674 , -0.01744282,  0.45112917,  0.7042524 ,  0.4837035 ]],\n",
       "       dtype=float32)>,\n",
       " <tf.Variable 'dense_1/bias:0' shape=(10,) dtype=float32, numpy=array([0.5, 0.5, 0.5, 0.5, 0.5, 0.5, 0.5, 0.5, 0.5, 0.5], dtype=float32)>]"
      ]
     },
     "execution_count": 28,
     "metadata": {},
     "output_type": "execute_result"
    }
   ],
   "source": [
    "model.weights \n",
    "# list of tf.Variable, 1 for each layer, therefore we use this python object\n",
    "\n",
    "# model.weights returns :\n",
    "# [layer0_kernel,layer0_bias, ..., layerN_kernel,layerN_bias]\n",
    "# so parameters are the kernels and biases of each layer "
   ]
  },
  {
   "cell_type": "code",
   "execution_count": 11,
   "metadata": {},
   "outputs": [],
   "source": [
    "var = tf.Variable(initial_value=np.full(shape=(10,), fill_value=1.), dtype='float32')\n",
    "\n",
    "# it is important to force dtype float32 of weights updates"
   ]
  },
  {
   "cell_type": "code",
   "execution_count": 12,
   "metadata": {},
   "outputs": [
    {
     "data": {
      "text/plain": [
       "<tf.Tensor: shape=(10,), dtype=float32, numpy=array([1., 1., 1., 1., 1., 1., 1., 1., 1., 1.], dtype=float32)>"
      ]
     },
     "execution_count": 12,
     "metadata": {},
     "output_type": "execute_result"
    }
   ],
   "source": [
    "var.value()"
   ]
  },
  {
   "attachments": {},
   "cell_type": "markdown",
   "metadata": {},
   "source": [
    "Native methods for weights update"
   ]
  },
  {
   "cell_type": "code",
   "execution_count": 13,
   "metadata": {},
   "outputs": [
    {
     "data": {
      "text/plain": [
       "<tf.Variable 'UnreadVariable' shape=(10,) dtype=float32, numpy=array([1., 1., 1., 1., 1., 1., 1., 1., 1., 1.], dtype=float32)>"
      ]
     },
     "execution_count": 13,
     "metadata": {},
     "output_type": "execute_result"
    }
   ],
   "source": [
    "model.weights[1].assign_add(delta = var) # sums weight and delta"
   ]
  },
  {
   "cell_type": "code",
   "execution_count": 14,
   "metadata": {},
   "outputs": [
    {
     "data": {
      "text/plain": [
       "<tf.Variable 'UnreadVariable' shape=(10,) dtype=float32, numpy=array([0., 0., 0., 0., 0., 0., 0., 0., 0., 0.], dtype=float32)>"
      ]
     },
     "execution_count": 14,
     "metadata": {},
     "output_type": "execute_result"
    }
   ],
   "source": [
    "model.weights[1].assign_sub(delta = var) # sums weight and delta"
   ]
  },
  {
   "attachments": {},
   "cell_type": "markdown",
   "metadata": {},
   "source": [
    "## Tests of weight_manager module"
   ]
  },
  {
   "cell_type": "code",
   "execution_count": 16,
   "metadata": {},
   "outputs": [],
   "source": [
    "updates = [\n",
    "    tf.Variable(initial_value=np.full(shape=(1,10), fill_value=1., dtype='float32')),\n",
    "    tf.Variable(initial_value=np.full(shape=(10,), fill_value=1., dtype='float32')),\n",
    "    tf.Variable(initial_value=np.full(shape=(10,10), fill_value=1., dtype='float32')),\n",
    "    tf.Variable(initial_value=np.full(shape=(10,), fill_value=1., dtype='float32')),\n",
    "]\n",
    "\n",
    "# dtype='float32' is important"
   ]
  },
  {
   "cell_type": "code",
   "execution_count": 17,
   "metadata": {},
   "outputs": [],
   "source": [
    "updates2 = [\n",
    "    tf.Variable(initial_value=np.full(shape=(1,10), fill_value=2., dtype='float32')),\n",
    "    tf.Variable(initial_value=np.full(shape=(10,), fill_value=2., dtype='float32')),\n",
    "    tf.Variable(initial_value=np.full(shape=(10,10), fill_value=2., dtype='float32')),\n",
    "    tf.Variable(initial_value=np.full(shape=(10,), fill_value=2., dtype='float32')),\n",
    "]"
   ]
  },
  {
   "cell_type": "code",
   "execution_count": 18,
   "metadata": {},
   "outputs": [],
   "source": [
    "weight_manager.increment_parameters(model=model, updates=updates, updates_multiplier=0.5)"
   ]
  },
  {
   "cell_type": "code",
   "execution_count": 19,
   "metadata": {},
   "outputs": [
    {
     "data": {
      "text/plain": [
       "[<tf.Variable 'dense/kernel:0' shape=(1, 10) dtype=float32, numpy=\n",
       " array([[ 0.6097705 ,  0.97421175,  0.76544136,  0.04212335, -0.11383426,\n",
       "          0.93249696,  0.98096126,  1.185389  ,  0.7979639 ,  0.6755691 ]],\n",
       "       dtype=float32)>,\n",
       " <tf.Variable 'dense/bias:0' shape=(10,) dtype=float32, numpy=array([0.5, 0.5, 0.5, 0.5, 0.5, 0.5, 0.5, 0.5, 0.5, 0.5], dtype=float32)>,\n",
       " <tf.Variable 'dense_1/kernel:0' shape=(10, 10) dtype=float32, numpy=\n",
       " array([[ 0.17526767,  0.99429166,  0.45228302, -0.0279308 ,  0.5181041 ,\n",
       "          0.02135977,  0.3771191 ,  0.29630885,  0.4934162 ,  0.05509907],\n",
       "        [ 0.36632243,  0.87222916,  0.7056887 ,  0.4357409 ,  0.74763453,\n",
       "          1.0191514 ,  0.2789482 ,  0.77191526,  1.0342777 ,  0.14600462],\n",
       "        [ 0.94309413,  0.8797434 ,  0.5216277 ,  0.76034737,  0.08473635,\n",
       "          0.698376  ,  0.0564428 ,  0.5298964 ,  0.3333498 ,  0.8105746 ],\n",
       "        [ 0.07442456,  0.753538  ,  0.92369866,  0.35825253,  0.77232677,\n",
       "          0.79700994,  0.8349419 ,  0.59037083,  0.23896381,  0.45977104],\n",
       "        [ 0.7300523 ,  0.30390942, -0.03815848,  0.2896058 ,  0.15957317,\n",
       "          0.5542566 ,  1.0390393 ,  0.54946804,  0.03139761,  0.00572535],\n",
       "        [ 0.9338428 ,  0.84295434,  0.00722763,  0.7105817 , -0.00842118,\n",
       "          0.59326047,  0.7309132 ,  0.08686692,  0.6305486 ,  1.030484  ],\n",
       "        [ 0.61665374,  0.9064329 ,  0.11620581,  0.90924215,  0.3466603 ,\n",
       "          0.5950368 ,  0.94874007,  0.3672048 ,  0.10387379,  0.30515143],\n",
       "        [ 1.0046158 ,  0.52874684,  0.2762466 ,  0.49584657,  0.9459806 ,\n",
       "          0.70467484,  0.06110936,  0.13968435,  0.33777642,  0.53293556],\n",
       "        [ 0.9431683 ,  0.47662187,  0.23259833,  0.35117078,  0.5382237 ,\n",
       "          0.1824736 ,  0.4504522 ,  0.6058228 ,  0.8635104 ,  0.08975589],\n",
       "        [ 0.37685975,  0.39722353,  0.04019529,  0.0684225 ,  0.54395866,\n",
       "          0.8556674 , -0.01744282,  0.45112917,  0.7042524 ,  0.4837035 ]],\n",
       "       dtype=float32)>,\n",
       " <tf.Variable 'dense_1/bias:0' shape=(10,) dtype=float32, numpy=array([0.5, 0.5, 0.5, 0.5, 0.5, 0.5, 0.5, 0.5, 0.5, 0.5], dtype=float32)>]"
      ]
     },
     "execution_count": 19,
     "metadata": {},
     "output_type": "execute_result"
    }
   ],
   "source": [
    "model.weights # on bias layers we see clearly the results"
   ]
  },
  {
   "cell_type": "code",
   "execution_count": 22,
   "metadata": {},
   "outputs": [
    {
     "data": {
      "text/plain": [
       "[<tf.Tensor: shape=(1, 10), dtype=float32, numpy=array([[0.9, 0.9, 0.9, 0.9, 0.9, 0.9, 0.9, 0.9, 0.9, 0.9]], dtype=float32)>,\n",
       " <tf.Tensor: shape=(10,), dtype=float32, numpy=array([0.9, 0.9, 0.9, 0.9, 0.9, 0.9, 0.9, 0.9, 0.9, 0.9], dtype=float32)>,\n",
       " <tf.Tensor: shape=(10, 10), dtype=float32, numpy=\n",
       " array([[0.9, 0.9, 0.9, 0.9, 0.9, 0.9, 0.9, 0.9, 0.9, 0.9],\n",
       "        [0.9, 0.9, 0.9, 0.9, 0.9, 0.9, 0.9, 0.9, 0.9, 0.9],\n",
       "        [0.9, 0.9, 0.9, 0.9, 0.9, 0.9, 0.9, 0.9, 0.9, 0.9],\n",
       "        [0.9, 0.9, 0.9, 0.9, 0.9, 0.9, 0.9, 0.9, 0.9, 0.9],\n",
       "        [0.9, 0.9, 0.9, 0.9, 0.9, 0.9, 0.9, 0.9, 0.9, 0.9],\n",
       "        [0.9, 0.9, 0.9, 0.9, 0.9, 0.9, 0.9, 0.9, 0.9, 0.9],\n",
       "        [0.9, 0.9, 0.9, 0.9, 0.9, 0.9, 0.9, 0.9, 0.9, 0.9],\n",
       "        [0.9, 0.9, 0.9, 0.9, 0.9, 0.9, 0.9, 0.9, 0.9, 0.9],\n",
       "        [0.9, 0.9, 0.9, 0.9, 0.9, 0.9, 0.9, 0.9, 0.9, 0.9],\n",
       "        [0.9, 0.9, 0.9, 0.9, 0.9, 0.9, 0.9, 0.9, 0.9, 0.9]], dtype=float32)>,\n",
       " <tf.Tensor: shape=(10,), dtype=float32, numpy=array([0.9, 0.9, 0.9, 0.9, 0.9, 0.9, 0.9, 0.9, 0.9, 0.9], dtype=float32)>]"
      ]
     },
     "execution_count": 22,
     "metadata": {},
     "output_type": "execute_result"
    }
   ],
   "source": [
    "weight_manager.weighted_sum_parameters([updates, updates2], [0.5, 0.2])\n",
    "# incompréhensible"
   ]
  },
  {
   "cell_type": "code",
   "execution_count": 23,
   "metadata": {},
   "outputs": [
    {
     "data": {
      "text/plain": [
       "0.9"
      ]
     },
     "execution_count": 23,
     "metadata": {},
     "output_type": "execute_result"
    }
   ],
   "source": [
    ".5 * 1. + .2 * 2."
   ]
  },
  {
   "cell_type": "code",
   "execution_count": 24,
   "metadata": {},
   "outputs": [
    {
     "data": {
      "text/plain": [
       "[<tf.Tensor: shape=(1, 10), dtype=float32, numpy=array([[1., 1., 1., 1., 1., 1., 1., 1., 1., 1.]], dtype=float32)>,\n",
       " <tf.Tensor: shape=(10,), dtype=float32, numpy=array([1., 1., 1., 1., 1., 1., 1., 1., 1., 1.], dtype=float32)>,\n",
       " <tf.Tensor: shape=(10, 10), dtype=float32, numpy=\n",
       " array([[1., 1., 1., 1., 1., 1., 1., 1., 1., 1.],\n",
       "        [1., 1., 1., 1., 1., 1., 1., 1., 1., 1.],\n",
       "        [1., 1., 1., 1., 1., 1., 1., 1., 1., 1.],\n",
       "        [1., 1., 1., 1., 1., 1., 1., 1., 1., 1.],\n",
       "        [1., 1., 1., 1., 1., 1., 1., 1., 1., 1.],\n",
       "        [1., 1., 1., 1., 1., 1., 1., 1., 1., 1.],\n",
       "        [1., 1., 1., 1., 1., 1., 1., 1., 1., 1.],\n",
       "        [1., 1., 1., 1., 1., 1., 1., 1., 1., 1.],\n",
       "        [1., 1., 1., 1., 1., 1., 1., 1., 1., 1.],\n",
       "        [1., 1., 1., 1., 1., 1., 1., 1., 1., 1.]], dtype=float32)>,\n",
       " <tf.Tensor: shape=(10,), dtype=float32, numpy=array([1., 1., 1., 1., 1., 1., 1., 1., 1., 1.], dtype=float32)>]"
      ]
     },
     "execution_count": 24,
     "metadata": {},
     "output_type": "execute_result"
    }
   ],
   "source": [
    "weight_manager.subtract_parameters(updates2, updates)"
   ]
  },
  {
   "cell_type": "code",
   "execution_count": 25,
   "metadata": {},
   "outputs": [
    {
     "data": {
      "text/plain": [
       "[<tf.Tensor: shape=(1, 10), dtype=float32, numpy=array([[3., 3., 3., 3., 3., 3., 3., 3., 3., 3.]], dtype=float32)>,\n",
       " <tf.Tensor: shape=(10,), dtype=float32, numpy=array([3., 3., 3., 3., 3., 3., 3., 3., 3., 3.], dtype=float32)>,\n",
       " <tf.Tensor: shape=(10, 10), dtype=float32, numpy=\n",
       " array([[3., 3., 3., 3., 3., 3., 3., 3., 3., 3.],\n",
       "        [3., 3., 3., 3., 3., 3., 3., 3., 3., 3.],\n",
       "        [3., 3., 3., 3., 3., 3., 3., 3., 3., 3.],\n",
       "        [3., 3., 3., 3., 3., 3., 3., 3., 3., 3.],\n",
       "        [3., 3., 3., 3., 3., 3., 3., 3., 3., 3.],\n",
       "        [3., 3., 3., 3., 3., 3., 3., 3., 3., 3.],\n",
       "        [3., 3., 3., 3., 3., 3., 3., 3., 3., 3.],\n",
       "        [3., 3., 3., 3., 3., 3., 3., 3., 3., 3.],\n",
       "        [3., 3., 3., 3., 3., 3., 3., 3., 3., 3.],\n",
       "        [3., 3., 3., 3., 3., 3., 3., 3., 3., 3.]], dtype=float32)>,\n",
       " <tf.Tensor: shape=(10,), dtype=float32, numpy=array([3., 3., 3., 3., 3., 3., 3., 3., 3., 3.], dtype=float32)>]"
      ]
     },
     "execution_count": 25,
     "metadata": {},
     "output_type": "execute_result"
    }
   ],
   "source": [
    "weight_manager.add_parameters(updates2, updates)"
   ]
  },
  {
   "attachments": {},
   "cell_type": "markdown",
   "metadata": {},
   "source": [
    "## Conclusion\n",
    "primitives of weight_manager work with List[tf.Variable] objects "
   ]
  }
 ],
 "metadata": {
  "kernelspec": {
   "display_name": "base",
   "language": "python",
   "name": "python3"
  },
  "language_info": {
   "codemirror_mode": {
    "name": "ipython",
    "version": 3
   },
   "file_extension": ".py",
   "mimetype": "text/x-python",
   "name": "python",
   "nbconvert_exporter": "python",
   "pygments_lexer": "ipython3",
   "version": "3.9.16"
  },
  "orig_nbformat": 4
 },
 "nbformat": 4,
 "nbformat_minor": 2
}
