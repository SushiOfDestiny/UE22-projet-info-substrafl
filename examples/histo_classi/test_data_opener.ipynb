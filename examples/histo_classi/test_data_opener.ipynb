{
 "cells": [
  {
   "cell_type": "code",
   "execution_count": 4,
   "metadata": {},
   "outputs": [],
   "source": [
    "import codecs\n",
    "import os\n",
    "import sys\n",
    "import zipfile\n",
    "import pathlib\n",
    "\n",
    "import numpy as np\n",
    "\n",
    "import PIL\n",
    "import PIL.Image\n",
    "\n",
    "import tensorflow as tf\n",
    "import tensorflow_datasets as tfds\n"
   ]
  },
  {
   "cell_type": "code",
   "execution_count": null,
   "metadata": {},
   "outputs": [],
   "source": [
    "from substra import Client\n",
    "\n",
    "N_CLIENTS = 3\n",
    "\n",
    "# Every computation will run in `subprocess` mode, where everything runs locally in Python\n",
    "# subprocesses.\n",
    "# Ohers backend_types are:\n",
    "# \"docker\" mode where computations run locally in docker containers\n",
    "# \"remote\" mode where computations run remotely (you need to have a deployed platform for that)\n",
    "client_0 = Client(backend_type=\"subprocess\")\n",
    "client_1 = Client(backend_type=\"subprocess\")\n",
    "client_2 = Client(backend_type=\"subprocess\")\n",
    "# To run in remote mode you have to also use the function `Client.login(username, password)`\n",
    "\n",
    "clients = {\n",
    "    client_0.organization_info().organization_id: client_0,\n",
    "    client_1.organization_info().organization_id: client_1,\n",
    "    client_2.organization_info().organization_id: client_2,\n",
    "}\n",
    "\n",
    "\n",
    "# Store organization IDs\n",
    "ORGS_ID = list(clients.keys())\n",
    "ALGO_ORG_ID = ORGS_ID[0]  # Algo provider is defined as the first organization.\n",
    "DATA_PROVIDER_ORGS_ID = ORGS_ID[1:]  # Data providers orgs are the two last organizations."
   ]
  },
  {
   "cell_type": "code",
   "execution_count": null,
   "metadata": {},
   "outputs": [],
   "source": [
    "from tf_fedavg_assets.dataset.histo_dataset import setup_histo\n",
    "\n",
    "# Create the temporary directory for generated data\n",
    "(pathlib.Path.cwd() / \"tmp\").mkdir(exist_ok=True)\n",
    "data_path = pathlib.Path.cwd() / \"tmp\" / \"data_histo\"\n",
    "\n",
    "setup_histo(data_path, len(DATA_PROVIDER_ORGS_ID))"
   ]
  }
 ],
 "metadata": {
  "kernelspec": {
   "display_name": "base",
   "language": "python",
   "name": "python3"
  },
  "language_info": {
   "codemirror_mode": {
    "name": "ipython",
    "version": 3
   },
   "file_extension": ".py",
   "mimetype": "text/x-python",
   "name": "python",
   "nbconvert_exporter": "python",
   "pygments_lexer": "ipython3",
   "version": "3.9.16"
  },
  "orig_nbformat": 4
 },
 "nbformat": 4,
 "nbformat_minor": 2
}
